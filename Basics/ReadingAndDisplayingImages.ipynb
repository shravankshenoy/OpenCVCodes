{
 "cells": [
  {
   "cell_type": "code",
   "execution_count": 2,
   "metadata": {},
   "outputs": [],
   "source": [
    "import cv2"
   ]
  },
  {
   "cell_type": "markdown",
   "metadata": {},
   "source": [
    "<h3> Reading and Displaying Images </h3>"
   ]
  },
  {
   "cell_type": "code",
   "execution_count": 20,
   "metadata": {},
   "outputs": [],
   "source": [
    "def display_image(img_path,win_name , mode = 1):\n",
    "    # mode = 0 specifies to load image in grayscale\n",
    "    # mode = 1 specifies to load color image, ignore alpha channel(i.e transparency) \n",
    "    img = cv2.imread(img_path, mode)\n",
    "    \n",
    "    cv2.imshow(win_name,img) #show image on new window with given window name\n",
    "    cv2.waitKey(0) # stay at this line until keyboard key is pressed\n",
    "    cv2.destroyWindow(win_name)"
   ]
  },
  {
   "cell_type": "code",
   "execution_count": 21,
   "metadata": {},
   "outputs": [],
   "source": [
    "img_path=\"C:\\\\Users\\\\Dell\\\\Documents\\\\ImageProcessing\\\\standard_test_images\\\\peppers_color.tif\"\n",
    "win_name = 'Pepper'\n",
    "display_image(img_path, win_name)"
   ]
  },
  {
   "cell_type": "code",
   "execution_count": 9,
   "metadata": {},
   "outputs": [],
   "source": []
  },
  {
   "cell_type": "code",
   "execution_count": null,
   "metadata": {},
   "outputs": [],
   "source": []
  }
 ],
 "metadata": {
  "kernelspec": {
   "display_name": "Python 3",
   "language": "python",
   "name": "python3"
  },
  "language_info": {
   "codemirror_mode": {
    "name": "ipython",
    "version": 3
   },
   "file_extension": ".py",
   "mimetype": "text/x-python",
   "name": "python",
   "nbconvert_exporter": "python",
   "pygments_lexer": "ipython3",
   "version": "3.6.4"
  }
 },
 "nbformat": 4,
 "nbformat_minor": 2
}
