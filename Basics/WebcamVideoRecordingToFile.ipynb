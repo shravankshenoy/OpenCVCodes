{
 "cells": [
  {
   "cell_type": "code",
   "execution_count": 1,
   "metadata": {},
   "outputs": [],
   "source": [
    "import cv2"
   ]
  },
  {
   "cell_type": "code",
   "execution_count": null,
   "metadata": {},
   "outputs": [],
   "source": []
  },
  {
   "cell_type": "code",
   "execution_count": 8,
   "metadata": {},
   "outputs": [],
   "source": [
    "cap = cv2.VideoCapture(0) \n",
    "windowName = 'Live Video Feed'\n",
    "cv2.namedWindow(windowName)\n",
    "\n",
    "filename = 'C:\\\\Users\\\\Dell\\\\Videos\\\\Output.avi'\n",
    "\n",
    "# We are using XVID codec\n",
    "codec = cv2.VideoWriter_fourcc('X','V','I','D')\n",
    "\n",
    "#Frames per second\n",
    "framerate = 20\n",
    "resolution = (640,480)\n",
    "\n",
    "VideoFileOutput = cv2.VideoWriter(filename,codec, framerate, resolution)\n",
    "\n",
    "\n",
    "\n",
    "\n",
    "if cap.isOpened():\n",
    "    ret, frame = cap.read()\n",
    "else:\n",
    "    ret = False\n",
    "\n",
    "    \n",
    "while ret:\n",
    "    ret,frame = cap.read()\n",
    "    #Doing some basic live video processing\n",
    "    frame = cv2.cvtColor(frame, cv2.COLOR_BGR2HSV)\n",
    "    cv2.imshow(windowName, frame)\n",
    "    \n",
    "    VideoFileOutput.write(frame)\n",
    "    \n",
    "    if cv2.waitKey(1) == 27: #Escape key\n",
    "        break\n",
    "        \n",
    "cv2.destroyAllWindows()\n",
    "VideoFileOutput.release()\n",
    "cap.release()"
   ]
  },
  {
   "cell_type": "code",
   "execution_count": null,
   "metadata": {},
   "outputs": [],
   "source": []
  }
 ],
 "metadata": {
  "kernelspec": {
   "display_name": "Python 3",
   "language": "python",
   "name": "python3"
  },
  "language_info": {
   "codemirror_mode": {
    "name": "ipython",
    "version": 3
   },
   "file_extension": ".py",
   "mimetype": "text/x-python",
   "name": "python",
   "nbconvert_exporter": "python",
   "pygments_lexer": "ipython3",
   "version": "3.6.4"
  }
 },
 "nbformat": 4,
 "nbformat_minor": 2
}
