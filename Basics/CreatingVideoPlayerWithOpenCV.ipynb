{
 "cells": [
  {
   "cell_type": "code",
   "execution_count": 1,
   "metadata": {},
   "outputs": [],
   "source": [
    "import cv2"
   ]
  },
  {
   "cell_type": "markdown",
   "metadata": {},
   "source": [
    "Note: This video player only plays video , not audio"
   ]
  },
  {
   "cell_type": "code",
   "execution_count": null,
   "metadata": {},
   "outputs": [],
   "source": []
  },
  {
   "cell_type": "markdown",
   "metadata": {},
   "source": [
    "Since frame rate was 20, time between 2 consecutive frames is 1000/20 ms = 50ms "
   ]
  },
  {
   "cell_type": "code",
   "execution_count": 2,
   "metadata": {},
   "outputs": [],
   "source": [
    "windowName = \"OpenCV Video Player\"\n",
    "cv2.namedWindow(windowName)\n",
    "    \n",
    "filename = 'C:\\\\Users\\\\Dell\\\\Videos\\\\Output.avi'\n",
    "cap = cv2.VideoCapture(filename)\n",
    "time = 50\n",
    "    \n",
    "while (cap.isOpened()):\n",
    "    \n",
    "    ret, frame = cap.read()\n",
    "        \n",
    "    #print(ret)\n",
    "        \n",
    "    if ret:\n",
    "        cv2.imshow(windowName, frame)\n",
    "        \n",
    "        if cv2.waitKey(time) == 27:\n",
    "            break\n",
    "    else:\n",
    "        break\n",
    "\n",
    "cv2.destroyAllWindows()    \n",
    "cap.release()\n",
    "\n"
   ]
  },
  {
   "cell_type": "markdown",
   "metadata": {},
   "source": [
    "By increase time, the gap between consecutive frames being rendered increases, so video speed decreases. Similarly if we want to increase video speed we have to reduce time. To make video speed 2x reduce time to half"
   ]
  },
  {
   "cell_type": "code",
   "execution_count": null,
   "metadata": {},
   "outputs": [],
   "source": []
  }
 ],
 "metadata": {
  "kernelspec": {
   "display_name": "Python 3",
   "language": "python",
   "name": "python3"
  },
  "language_info": {
   "codemirror_mode": {
    "name": "ipython",
    "version": 3
   },
   "file_extension": ".py",
   "mimetype": "text/x-python",
   "name": "python",
   "nbconvert_exporter": "python",
   "pygments_lexer": "ipython3",
   "version": "3.6.4"
  }
 },
 "nbformat": 4,
 "nbformat_minor": 2
}
